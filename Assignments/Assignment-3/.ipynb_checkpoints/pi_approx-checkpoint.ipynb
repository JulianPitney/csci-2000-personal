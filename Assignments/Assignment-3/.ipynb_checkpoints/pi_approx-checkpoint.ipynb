{
 "cells": [
  {
   "cell_type": "code",
   "execution_count": 63,
   "metadata": {
    "collapsed": false
   },
   "outputs": [
    {
     "name": "stdout",
     "output_type": "stream",
     "text": [
      "When n =      10, rho_pi_approx = 3.04183961893\n",
      "When n =      10, tau_pi_approx = 3.04936163598\n",
      "When n =      10,  mu_pi_approx = 3.14138462247\n",
      "\n",
      "When n =     100, rho_pi_approx = 3.13159290356\n",
      "When n =     100, tau_pi_approx = 3.13207653181\n",
      "When n =     100,  mu_pi_approx = 3.14159241531\n",
      "\n",
      "When n =    1000, rho_pi_approx = 3.14059265384\n",
      "When n =    1000, tau_pi_approx = 3.14063805621\n",
      "When n =    1000,  mu_pi_approx = 3.14159265335\n",
      "\n",
      "When n =   10000, rho_pi_approx = 3.14149265359\n",
      "When n =   10000, tau_pi_approx = 3.14149716395\n",
      "When n =   10000,  mu_pi_approx = 3.14159265359\n",
      "\n",
      "When n =  100000, rho_pi_approx = 3.14158265359\n",
      "When n =  100000, tau_pi_approx = 3.14158310433\n",
      "When n =  100000,  mu_pi_approx = 3.14159265359\n",
      "\n",
      "When n = 1000000, rho_pi_approx = 3.14159165359\n",
      "When n = 1000000, tau_pi_approx = 3.14159169866\n",
      "When n = 1000000,  mu_pi_approx = 3.14159265359\n",
      "\n"
     ]
    }
   ],
   "source": [
    "import numpy\n",
    "\n",
    "\n",
    "\n",
    "def rho_pi_approx(n):\n",
    "    pi = 0\n",
    "    for num in range(1,n + 1):\n",
    "        pi += ((-1)**(num + 1)) / ((2*num) - (1))\n",
    "    pi *= 4\n",
    "    return pi\n",
    "\n",
    "def tau_pi_approx(n):\n",
    "    pi = 0\n",
    "    for num in range(1,n+1):\n",
    "        pi += (1) / (num**2)\n",
    "    pi *= 6\n",
    "    pi = pi**(0.5)\n",
    "    return pi\n",
    "\n",
    "def mu_pi_approx(n):\n",
    "    pi = 0\n",
    "    for num in range(1,n+1):\n",
    "        pi += (1) / (num**(4))\n",
    "    pi *= 90\n",
    "    pi = pi**(0.25)\n",
    "    return pi\n",
    "\n",
    "\n",
    "def print_pi_funcs():\n",
    "    n = 10\n",
    "    for num in range (0,6):\n",
    "        print ('When n = %7s' % str(n) + ', rho_pi_approx = ' + '{:10.11f}'.format((rho_pi_approx(n))))\n",
    "        print ('When n = %7s' % str(n) + ', tau_pi_approx = ' + '{:10.11f}'.format((tau_pi_approx(n))))\n",
    "        print ('When n = %7s' % str(n) + ',  mu_pi_approx = ' + '{:10.11f}'.format((mu_pi_approx(n))))\n",
    "        print()\n",
    "        n *= 10\n",
    "        \n",
    "\n",
    "print_pi_funcs()\n",
    "\n"
   ]
  }
 ],
 "metadata": {
  "kernelspec": {
   "display_name": "Python 3",
   "language": "python",
   "name": "python3"
  },
  "language_info": {
   "codemirror_mode": {
    "name": "ipython",
    "version": 3
   },
   "file_extension": ".py",
   "mimetype": "text/x-python",
   "name": "python",
   "nbconvert_exporter": "python",
   "pygments_lexer": "ipython3",
   "version": "3.4.3"
  }
 },
 "nbformat": 4,
 "nbformat_minor": 0
}
