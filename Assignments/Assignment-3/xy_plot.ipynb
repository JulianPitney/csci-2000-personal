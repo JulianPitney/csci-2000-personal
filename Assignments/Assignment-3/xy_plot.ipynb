{
 "cells": [
  {
   "cell_type": "code",
   "execution_count": 66,
   "metadata": {
    "collapsed": false
   },
   "outputs": [],
   "source": [
    "import numpy as np\n",
    "import matplotlib.pyplot as plt\n",
    "\n",
    "\n",
    "x_coords = []\n",
    "y_coords = []\n",
    "\n",
    "fp = open(\"xy_points.dat\")\n",
    "for i, line in enumerate(fp):\n",
    "    if i == 0:\n",
    "        x_coords = line.split()\n",
    "    elif i == 1:\n",
    "        y_coords = line.split()\n",
    "    elif i > 1:\n",
    "        break\n",
    "fp.close()\n",
    "\n",
    "\n",
    "plt.scatter(x_coords, y_coords, c = 'r')\n",
    "\n",
    "\n",
    "x_numeric = []\n",
    "y_numeric = []\n",
    "\n",
    "for x in x_coords:\n",
    "    for t in x.split():\n",
    "        try:\n",
    "            x_numeric.append(float(t)) #float constructor will take scientific notation, woo.\n",
    "        except ValueError:\n",
    "            pass\n",
    "        \n",
    "for y in y_coords:\n",
    "    for t in y.split():\n",
    "        try:\n",
    "            y_numeric.append(float(t))\n",
    "        except ValueError:\n",
    "            pass\n",
    "        \n",
    "\n",
    "x_numpy = np.array(x_numeric)\n",
    "y_numpy = np.array(y_numeric)\n",
    "\n",
    "x_inrange = x_numpy[x_numpy < -2]\n",
    "y_inrange = y_numpy[y_numpy <= 0]\n",
    "y_inrange = y_inrange[y_inrange >= -5]\n",
    "\n",
    "x_final = []\n",
    "y_final = []\n",
    "x_count = 0\n",
    "y_count = 0\n",
    "\n",
    "for x in range(0,1000):\n",
    "    if x_inrange[x_count] == x_numeric[x]:\n",
    "        if y_inrange[y_count] == y_numeric[x]:\n",
    "            x_final.append(x_inrange[x_count])\n",
    "            y_final.append(y_inrange[y_count])\n",
    "            x_count += 1\n",
    "            y_count += 1\n",
    "\n",
    "\n",
    "\n",
    "\n",
    "\n",
    "\n",
    "\n",
    "\n",
    "\n",
    "\n",
    "        \n",
    "        \n",
    "     "
   ]
  },
  {
   "cell_type": "code",
   "execution_count": null,
   "metadata": {
    "collapsed": true
   },
   "outputs": [],
   "source": []
  }
 ],
 "metadata": {
  "kernelspec": {
   "display_name": "Python 3",
   "language": "python",
   "name": "python3"
  },
  "language_info": {
   "codemirror_mode": {
    "name": "ipython",
    "version": 3
   },
   "file_extension": ".py",
   "mimetype": "text/x-python",
   "name": "python",
   "nbconvert_exporter": "python",
   "pygments_lexer": "ipython3",
   "version": "3.4.3"
  }
 },
 "nbformat": 4,
 "nbformat_minor": 0
}
